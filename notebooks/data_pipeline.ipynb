{
  "cells": [
    {
      "cell_type": "code",
      "execution_count": null,
      "metadata": {
        "collapsed": true,
        "id": "m-DzzDc8y4uQ"
      },
      "outputs": [],
      "source": [
        "!pip -q install transformers sentencepiece torch tqdm\n",
        "!python -m spacy download fr_core_news_sm\n",
        "!python -m spacy download en_core_web_sm"
      ]
    },
    {
      "cell_type": "code",
      "execution_count": 35,
      "metadata": {
        "id": "YsZHh9QiXiDi"
      },
      "outputs": [],
      "source": [
        "import pandas as pd\n",
        "import torch\n",
        "from tqdm import tqdm\n",
        "from transformers import (\n",
        "    PegasusForConditionalGeneration, PegasusTokenizer,\n",
        "    MarianMTModel, MarianTokenizer)\n",
        "import spacy\n",
        "import pandas as pd\n",
        "import numpy as np\n",
        "from sklearn.model_selection import train_test_split\n",
        "from sklearn.feature_extraction.text import TfidfVectorizer\n",
        "from sklearn.ensemble import RandomForestClassifier\n",
        "from sklearn.linear_model import LogisticRegression\n",
        "from sklearn.metrics import classification_report, confusion_matrix, accuracy_score\n",
        "from sklearn.pipeline import Pipeline as ImbPipeline\n",
        "from imblearn.over_sampling import SMOTE\n",
        "import matplotlib.pyplot as plt\n",
        "from scipy.sparse import hstack\n",
        "import seaborn as sns\n",
        "from collections import Counter"
      ]
    },
    {
      "cell_type": "code",
      "execution_count": null,
      "metadata": {
        "collapsed": true,
        "id": "Wa4TUpbV5z6D"
      },
      "outputs": [],
      "source": [
        "!mkdir ~/.kaggle\n",
        "!mv kaggle.json ~/.kaggle/\n",
        "!chmod 600 ~/.kaggle/kaggle.json\n"
      ]
    },
    {
      "cell_type": "code",
      "execution_count": null,
      "metadata": {
        "collapsed": true,
        "id": "P-SaR8Zpa87_"
      },
      "outputs": [],
      "source": [
        "!kaggle datasets download -d thedevastator/belgian-statutory-article-retrieval-dataset-bsar\n",
        "!unzip belgian-statutory-article-retrieval-dataset-bsar.zip\n"
      ]
    },
    {
      "cell_type": "markdown",
      "metadata": {
        "id": "b62fipnFY2A1"
      },
      "source": [
        " ***Overview of the dataset***\n"
      ]
    },
    {
      "cell_type": "code",
      "execution_count": null,
      "metadata": {
        "id": "zFud-jlZ6wLa"
      },
      "outputs": [],
      "source": [
        "\n",
        "df_train = pd.read_csv(\"train.csv\", encoding=\"utf-8\" , sep=',')\n",
        "df_test=pd.read_csv(\"test.csv\", encoding=\"utf-8\" , sep=',')\n",
        "df= pd.concat([df_train, df_test ], ignore_index=True)\n"
      ]
    },
    {
      "cell_type": "code",
      "execution_count": null,
      "metadata": {
        "id": "Rm5R_6__pXiC"
      },
      "outputs": [],
      "source": [
        "df.to_csv('fr_data.csv', index=False)"
      ]
    },
    {
      "cell_type": "code",
      "execution_count": null,
      "metadata": {
        "colab": {
          "base_uri": "https://localhost:8080/"
        },
        "id": "QzNJs29E9RIh",
        "outputId": "148496d8-4f84-43eb-e6db-f03ee8d9d612"
      },
      "outputs": [
        {
          "name": "stdout",
          "output_type": "stream",
          "text": [
            "<class 'pandas.core.frame.DataFrame'>\n",
            "RangeIndex: 1108 entries, 0 to 1107\n",
            "Data columns (total 6 columns):\n",
            " #   Column             Non-Null Count  Dtype \n",
            "---  ------             --------------  ----- \n",
            " 0   id                 1108 non-null   int64 \n",
            " 1   question           1108 non-null   object\n",
            " 2   article_ids        1108 non-null   object\n",
            " 3   category           1108 non-null   object\n",
            " 4   subcategory        1108 non-null   object\n",
            " 5   extra_description  990 non-null    object\n",
            "dtypes: int64(1), object(5)\n",
            "memory usage: 52.1+ KB\n"
          ]
        }
      ],
      "source": [
        "df.info()"
      ]
    },
    {
      "cell_type": "code",
      "execution_count": null,
      "metadata": {
        "colab": {
          "base_uri": "https://localhost:8080/"
        },
        "id": "0P7trj_z9-mY",
        "outputId": "536d0063-c0ff-482d-809e-eb8f7d0a838c"
      },
      "outputs": [
        {
          "name": "stdout",
          "output_type": "stream",
          "text": [
            "['Travail' 'Argent' 'Famille' 'Logement' 'Protection sociale' 'Justice'\n",
            " 'Etrangers']\n"
          ]
        }
      ],
      "source": [
        "print(df['category'].unique())"
      ]
    },
    {
      "cell_type": "code",
      "execution_count": null,
      "metadata": {
        "colab": {
          "base_uri": "https://localhost:8080/"
        },
        "id": "NlzlZjnm-NJZ",
        "outputId": "fc895869-649f-43a3-b5ab-b889bedcd14f"
      },
      "outputs": [
        {
          "data": {
            "text/plain": [
              "50"
            ]
          },
          "execution_count": 12,
          "metadata": {},
          "output_type": "execute_result"
        }
      ],
      "source": [
        "len(df['subcategory'].unique())"
      ]
    },
    {
      "cell_type": "code",
      "execution_count": null,
      "metadata": {
        "id": "i6DE6pvu-ooK"
      },
      "outputs": [],
      "source": [
        "df=df.drop(['subcategory', 'article_ids','extra_description','id'], axis=1)\n"
      ]
    },
    {
      "cell_type": "code",
      "execution_count": null,
      "metadata": {
        "colab": {
          "base_uri": "https://localhost:8080/",
          "height": 206
        },
        "id": "YtNndo0S_WnR",
        "outputId": "916be796-d30a-466d-dde0-25512a922522"
      },
      "outputs": [
        {
          "data": {
            "application/vnd.google.colaboratory.intrinsic+json": {
              "summary": "{\n  \"name\": \"df\",\n  \"rows\": 1108,\n  \"fields\": [\n    {\n      \"column\": \"question\",\n      \"properties\": {\n        \"dtype\": \"string\",\n        \"num_unique_values\": 1032,\n        \"samples\": [\n          \"Comment dois-je renoncer \\u00e0 une succession ?\",\n          \"Les p\\u00e8re et m\\u00e8re de l'enfant r\\u00e9sident s\\u00e9par\\u00e9ment. Que faire si l'autre parent a pris une d\\u00e9cision avec laquelle je ne suis pas d'accord concernant notre enfant ?\",\n          \"Je me suis port\\u00e9 caution pour une personne endett\\u00e9e qui ne veut pas introduire de RCD. Que puis-je faire ?\"\n        ],\n        \"semantic_type\": \"\",\n        \"description\": \"\"\n      }\n    },\n    {\n      \"column\": \"category\",\n      \"properties\": {\n        \"dtype\": \"category\",\n        \"num_unique_values\": 7,\n        \"samples\": [\n          \"Travail\",\n          \"Argent\",\n          \"Justice\"\n        ],\n        \"semantic_type\": \"\",\n        \"description\": \"\"\n      }\n    }\n  ]\n}",
              "type": "dataframe",
              "variable_name": "df"
            },
            "text/html": [
              "\n",
              "  <div id=\"df-a494e5c2-3ef9-4bdd-b543-16a54a535732\" class=\"colab-df-container\">\n",
              "    <div>\n",
              "<style scoped>\n",
              "    .dataframe tbody tr th:only-of-type {\n",
              "        vertical-align: middle;\n",
              "    }\n",
              "\n",
              "    .dataframe tbody tr th {\n",
              "        vertical-align: top;\n",
              "    }\n",
              "\n",
              "    .dataframe thead th {\n",
              "        text-align: right;\n",
              "    }\n",
              "</style>\n",
              "<table border=\"1\" class=\"dataframe\">\n",
              "  <thead>\n",
              "    <tr style=\"text-align: right;\">\n",
              "      <th></th>\n",
              "      <th>question</th>\n",
              "      <th>category</th>\n",
              "    </tr>\n",
              "  </thead>\n",
              "  <tbody>\n",
              "    <tr>\n",
              "      <th>0</th>\n",
              "      <td>Je suis travailleur salarié(e). Puis-je refuse...</td>\n",
              "      <td>Travail</td>\n",
              "    </tr>\n",
              "    <tr>\n",
              "      <th>1</th>\n",
              "      <td>Peut-on saisir tous mes revenus ?</td>\n",
              "      <td>Argent</td>\n",
              "    </tr>\n",
              "    <tr>\n",
              "      <th>2</th>\n",
              "      <td>Je suis marié(e). Nous sommes mariés. Dois-je ...</td>\n",
              "      <td>Famille</td>\n",
              "    </tr>\n",
              "    <tr>\n",
              "      <th>3</th>\n",
              "      <td>Je mets un kot en location (bail de droit comm...</td>\n",
              "      <td>Logement</td>\n",
              "    </tr>\n",
              "    <tr>\n",
              "      <th>4</th>\n",
              "      <td>Suis-je payé pendant la procédure du trajet de...</td>\n",
              "      <td>Travail</td>\n",
              "    </tr>\n",
              "  </tbody>\n",
              "</table>\n",
              "</div>\n",
              "    <div class=\"colab-df-buttons\">\n",
              "\n",
              "  <div class=\"colab-df-container\">\n",
              "    <button class=\"colab-df-convert\" onclick=\"convertToInteractive('df-a494e5c2-3ef9-4bdd-b543-16a54a535732')\"\n",
              "            title=\"Convert this dataframe to an interactive table.\"\n",
              "            style=\"display:none;\">\n",
              "\n",
              "  <svg xmlns=\"http://www.w3.org/2000/svg\" height=\"24px\" viewBox=\"0 -960 960 960\">\n",
              "    <path d=\"M120-120v-720h720v720H120Zm60-500h600v-160H180v160Zm220 220h160v-160H400v160Zm0 220h160v-160H400v160ZM180-400h160v-160H180v160Zm440 0h160v-160H620v160ZM180-180h160v-160H180v160Zm440 0h160v-160H620v160Z\"/>\n",
              "  </svg>\n",
              "    </button>\n",
              "\n",
              "  <style>\n",
              "    .colab-df-container {\n",
              "      display:flex;\n",
              "      gap: 12px;\n",
              "    }\n",
              "\n",
              "    .colab-df-convert {\n",
              "      background-color: #E8F0FE;\n",
              "      border: none;\n",
              "      border-radius: 50%;\n",
              "      cursor: pointer;\n",
              "      display: none;\n",
              "      fill: #1967D2;\n",
              "      height: 32px;\n",
              "      padding: 0 0 0 0;\n",
              "      width: 32px;\n",
              "    }\n",
              "\n",
              "    .colab-df-convert:hover {\n",
              "      background-color: #E2EBFA;\n",
              "      box-shadow: 0px 1px 2px rgba(60, 64, 67, 0.3), 0px 1px 3px 1px rgba(60, 64, 67, 0.15);\n",
              "      fill: #174EA6;\n",
              "    }\n",
              "\n",
              "    .colab-df-buttons div {\n",
              "      margin-bottom: 4px;\n",
              "    }\n",
              "\n",
              "    [theme=dark] .colab-df-convert {\n",
              "      background-color: #3B4455;\n",
              "      fill: #D2E3FC;\n",
              "    }\n",
              "\n",
              "    [theme=dark] .colab-df-convert:hover {\n",
              "      background-color: #434B5C;\n",
              "      box-shadow: 0px 1px 3px 1px rgba(0, 0, 0, 0.15);\n",
              "      filter: drop-shadow(0px 1px 2px rgba(0, 0, 0, 0.3));\n",
              "      fill: #FFFFFF;\n",
              "    }\n",
              "  </style>\n",
              "\n",
              "    <script>\n",
              "      const buttonEl =\n",
              "        document.querySelector('#df-a494e5c2-3ef9-4bdd-b543-16a54a535732 button.colab-df-convert');\n",
              "      buttonEl.style.display =\n",
              "        google.colab.kernel.accessAllowed ? 'block' : 'none';\n",
              "\n",
              "      async function convertToInteractive(key) {\n",
              "        const element = document.querySelector('#df-a494e5c2-3ef9-4bdd-b543-16a54a535732');\n",
              "        const dataTable =\n",
              "          await google.colab.kernel.invokeFunction('convertToInteractive',\n",
              "                                                    [key], {});\n",
              "        if (!dataTable) return;\n",
              "\n",
              "        const docLinkHtml = 'Like what you see? Visit the ' +\n",
              "          '<a target=\"_blank\" href=https://colab.research.google.com/notebooks/data_table.ipynb>data table notebook</a>'\n",
              "          + ' to learn more about interactive tables.';\n",
              "        element.innerHTML = '';\n",
              "        dataTable['output_type'] = 'display_data';\n",
              "        await google.colab.output.renderOutput(dataTable, element);\n",
              "        const docLink = document.createElement('div');\n",
              "        docLink.innerHTML = docLinkHtml;\n",
              "        element.appendChild(docLink);\n",
              "      }\n",
              "    </script>\n",
              "  </div>\n",
              "\n",
              "\n",
              "    <div id=\"df-d92cee39-5719-4913-86f7-772921d999e5\">\n",
              "      <button class=\"colab-df-quickchart\" onclick=\"quickchart('df-d92cee39-5719-4913-86f7-772921d999e5')\"\n",
              "                title=\"Suggest charts\"\n",
              "                style=\"display:none;\">\n",
              "\n",
              "<svg xmlns=\"http://www.w3.org/2000/svg\" height=\"24px\"viewBox=\"0 0 24 24\"\n",
              "     width=\"24px\">\n",
              "    <g>\n",
              "        <path d=\"M19 3H5c-1.1 0-2 .9-2 2v14c0 1.1.9 2 2 2h14c1.1 0 2-.9 2-2V5c0-1.1-.9-2-2-2zM9 17H7v-7h2v7zm4 0h-2V7h2v10zm4 0h-2v-4h2v4z\"/>\n",
              "    </g>\n",
              "</svg>\n",
              "      </button>\n",
              "\n",
              "<style>\n",
              "  .colab-df-quickchart {\n",
              "      --bg-color: #E8F0FE;\n",
              "      --fill-color: #1967D2;\n",
              "      --hover-bg-color: #E2EBFA;\n",
              "      --hover-fill-color: #174EA6;\n",
              "      --disabled-fill-color: #AAA;\n",
              "      --disabled-bg-color: #DDD;\n",
              "  }\n",
              "\n",
              "  [theme=dark] .colab-df-quickchart {\n",
              "      --bg-color: #3B4455;\n",
              "      --fill-color: #D2E3FC;\n",
              "      --hover-bg-color: #434B5C;\n",
              "      --hover-fill-color: #FFFFFF;\n",
              "      --disabled-bg-color: #3B4455;\n",
              "      --disabled-fill-color: #666;\n",
              "  }\n",
              "\n",
              "  .colab-df-quickchart {\n",
              "    background-color: var(--bg-color);\n",
              "    border: none;\n",
              "    border-radius: 50%;\n",
              "    cursor: pointer;\n",
              "    display: none;\n",
              "    fill: var(--fill-color);\n",
              "    height: 32px;\n",
              "    padding: 0;\n",
              "    width: 32px;\n",
              "  }\n",
              "\n",
              "  .colab-df-quickchart:hover {\n",
              "    background-color: var(--hover-bg-color);\n",
              "    box-shadow: 0 1px 2px rgba(60, 64, 67, 0.3), 0 1px 3px 1px rgba(60, 64, 67, 0.15);\n",
              "    fill: var(--button-hover-fill-color);\n",
              "  }\n",
              "\n",
              "  .colab-df-quickchart-complete:disabled,\n",
              "  .colab-df-quickchart-complete:disabled:hover {\n",
              "    background-color: var(--disabled-bg-color);\n",
              "    fill: var(--disabled-fill-color);\n",
              "    box-shadow: none;\n",
              "  }\n",
              "\n",
              "  .colab-df-spinner {\n",
              "    border: 2px solid var(--fill-color);\n",
              "    border-color: transparent;\n",
              "    border-bottom-color: var(--fill-color);\n",
              "    animation:\n",
              "      spin 1s steps(1) infinite;\n",
              "  }\n",
              "\n",
              "  @keyframes spin {\n",
              "    0% {\n",
              "      border-color: transparent;\n",
              "      border-bottom-color: var(--fill-color);\n",
              "      border-left-color: var(--fill-color);\n",
              "    }\n",
              "    20% {\n",
              "      border-color: transparent;\n",
              "      border-left-color: var(--fill-color);\n",
              "      border-top-color: var(--fill-color);\n",
              "    }\n",
              "    30% {\n",
              "      border-color: transparent;\n",
              "      border-left-color: var(--fill-color);\n",
              "      border-top-color: var(--fill-color);\n",
              "      border-right-color: var(--fill-color);\n",
              "    }\n",
              "    40% {\n",
              "      border-color: transparent;\n",
              "      border-right-color: var(--fill-color);\n",
              "      border-top-color: var(--fill-color);\n",
              "    }\n",
              "    60% {\n",
              "      border-color: transparent;\n",
              "      border-right-color: var(--fill-color);\n",
              "    }\n",
              "    80% {\n",
              "      border-color: transparent;\n",
              "      border-right-color: var(--fill-color);\n",
              "      border-bottom-color: var(--fill-color);\n",
              "    }\n",
              "    90% {\n",
              "      border-color: transparent;\n",
              "      border-bottom-color: var(--fill-color);\n",
              "    }\n",
              "  }\n",
              "</style>\n",
              "\n",
              "      <script>\n",
              "        async function quickchart(key) {\n",
              "          const quickchartButtonEl =\n",
              "            document.querySelector('#' + key + ' button');\n",
              "          quickchartButtonEl.disabled = true;  // To prevent multiple clicks.\n",
              "          quickchartButtonEl.classList.add('colab-df-spinner');\n",
              "          try {\n",
              "            const charts = await google.colab.kernel.invokeFunction(\n",
              "                'suggestCharts', [key], {});\n",
              "          } catch (error) {\n",
              "            console.error('Error during call to suggestCharts:', error);\n",
              "          }\n",
              "          quickchartButtonEl.classList.remove('colab-df-spinner');\n",
              "          quickchartButtonEl.classList.add('colab-df-quickchart-complete');\n",
              "        }\n",
              "        (() => {\n",
              "          let quickchartButtonEl =\n",
              "            document.querySelector('#df-d92cee39-5719-4913-86f7-772921d999e5 button');\n",
              "          quickchartButtonEl.style.display =\n",
              "            google.colab.kernel.accessAllowed ? 'block' : 'none';\n",
              "        })();\n",
              "      </script>\n",
              "    </div>\n",
              "\n",
              "    </div>\n",
              "  </div>\n"
            ],
            "text/plain": [
              "                                            question  category\n",
              "0  Je suis travailleur salarié(e). Puis-je refuse...   Travail\n",
              "1                  Peut-on saisir tous mes revenus ?    Argent\n",
              "2  Je suis marié(e). Nous sommes mariés. Dois-je ...   Famille\n",
              "3  Je mets un kot en location (bail de droit comm...  Logement\n",
              "4  Suis-je payé pendant la procédure du trajet de...   Travail"
            ]
          },
          "execution_count": 14,
          "metadata": {},
          "output_type": "execute_result"
        }
      ],
      "source": [
        "df.head()"
      ]
    },
    {
      "cell_type": "code",
      "execution_count": null,
      "metadata": {
        "colab": {
          "base_uri": "https://localhost:8080/"
        },
        "id": "um_7ITYv_i5r",
        "outputId": "4961725e-0bc7-4d3d-d106-00b91e69ca07"
      },
      "outputs": [
        {
          "name": "stdout",
          "output_type": "stream",
          "text": [
            "category\n",
            "Famille               339\n",
            "Logement              304\n",
            "Argent                177\n",
            "Justice               151\n",
            "Etrangers              63\n",
            "Protection sociale     39\n",
            "Travail                35\n",
            "Name: count, dtype: int64\n"
          ]
        }
      ],
      "source": [
        "print(df['category'].value_counts())"
      ]
    },
    {
      "cell_type": "markdown",
      "metadata": {
        "id": "XsOKU3Uiz-O9"
      },
      "source": [
        "***Renaming the categories***"
      ]
    },
    {
      "cell_type": "code",
      "execution_count": null,
      "metadata": {
        "id": "oZPwMnJBoAoS"
      },
      "outputs": [],
      "source": [
        "category_to_supercat = {\n",
        "    \"Justice\": \"Droit pénal\",\n",
        "    \"Travail\": \"Droit du travail\",\n",
        "    \"Logement\": \"Droit immobilier\",\n",
        "    \"Argent\": \"Droit financier\",\n",
        "    \"Famille\": \"Droit de la famille\",\n",
        "    \"Protection sociale\": \"Droit de la protection sociale\",\n",
        "    \"Etrangers\": \"Droit des étrangers\"\n",
        "}"
      ]
    },
    {
      "cell_type": "code",
      "execution_count": null,
      "metadata": {
        "id": "P0chhXLioAj1"
      },
      "outputs": [],
      "source": [
        "df['super_category'] = df['category'].map(category_to_supercat)"
      ]
    },
    {
      "cell_type": "code",
      "execution_count": null,
      "metadata": {
        "colab": {
          "base_uri": "https://localhost:8080/",
          "height": 206
        },
        "id": "RlvU6J_OoAhf",
        "outputId": "bad93ffc-b1e5-4374-b14d-0816cb8d42ee"
      },
      "outputs": [
        {
          "data": {
            "application/vnd.google.colaboratory.intrinsic+json": {
              "summary": "{\n  \"name\": \"df\",\n  \"rows\": 1108,\n  \"fields\": [\n    {\n      \"column\": \"question\",\n      \"properties\": {\n        \"dtype\": \"string\",\n        \"num_unique_values\": 1032,\n        \"samples\": [\n          \"Comment dois-je renoncer \\u00e0 une succession ?\",\n          \"Les p\\u00e8re et m\\u00e8re de l'enfant r\\u00e9sident s\\u00e9par\\u00e9ment. Que faire si l'autre parent a pris une d\\u00e9cision avec laquelle je ne suis pas d'accord concernant notre enfant ?\",\n          \"Je me suis port\\u00e9 caution pour une personne endett\\u00e9e qui ne veut pas introduire de RCD. Que puis-je faire ?\"\n        ],\n        \"semantic_type\": \"\",\n        \"description\": \"\"\n      }\n    },\n    {\n      \"column\": \"category\",\n      \"properties\": {\n        \"dtype\": \"category\",\n        \"num_unique_values\": 7,\n        \"samples\": [\n          \"Travail\",\n          \"Argent\",\n          \"Justice\"\n        ],\n        \"semantic_type\": \"\",\n        \"description\": \"\"\n      }\n    },\n    {\n      \"column\": \"super_category\",\n      \"properties\": {\n        \"dtype\": \"category\",\n        \"num_unique_values\": 7,\n        \"samples\": [\n          \"Droit du travail\",\n          \"Droit financier\",\n          \"Droit p\\u00e9nal\"\n        ],\n        \"semantic_type\": \"\",\n        \"description\": \"\"\n      }\n    }\n  ]\n}",
              "type": "dataframe",
              "variable_name": "df"
            },
            "text/html": [
              "\n",
              "  <div id=\"df-b3685120-9138-48be-8f82-312b9fedf9b3\" class=\"colab-df-container\">\n",
              "    <div>\n",
              "<style scoped>\n",
              "    .dataframe tbody tr th:only-of-type {\n",
              "        vertical-align: middle;\n",
              "    }\n",
              "\n",
              "    .dataframe tbody tr th {\n",
              "        vertical-align: top;\n",
              "    }\n",
              "\n",
              "    .dataframe thead th {\n",
              "        text-align: right;\n",
              "    }\n",
              "</style>\n",
              "<table border=\"1\" class=\"dataframe\">\n",
              "  <thead>\n",
              "    <tr style=\"text-align: right;\">\n",
              "      <th></th>\n",
              "      <th>question</th>\n",
              "      <th>category</th>\n",
              "      <th>super_category</th>\n",
              "    </tr>\n",
              "  </thead>\n",
              "  <tbody>\n",
              "    <tr>\n",
              "      <th>0</th>\n",
              "      <td>Je suis travailleur salarié(e). Puis-je refuse...</td>\n",
              "      <td>Travail</td>\n",
              "      <td>Droit du travail</td>\n",
              "    </tr>\n",
              "    <tr>\n",
              "      <th>1</th>\n",
              "      <td>Peut-on saisir tous mes revenus ?</td>\n",
              "      <td>Argent</td>\n",
              "      <td>Droit financier</td>\n",
              "    </tr>\n",
              "    <tr>\n",
              "      <th>2</th>\n",
              "      <td>Je suis marié(e). Nous sommes mariés. Dois-je ...</td>\n",
              "      <td>Famille</td>\n",
              "      <td>Droit de la famille</td>\n",
              "    </tr>\n",
              "    <tr>\n",
              "      <th>3</th>\n",
              "      <td>Je mets un kot en location (bail de droit comm...</td>\n",
              "      <td>Logement</td>\n",
              "      <td>Droit immobilier</td>\n",
              "    </tr>\n",
              "    <tr>\n",
              "      <th>4</th>\n",
              "      <td>Suis-je payé pendant la procédure du trajet de...</td>\n",
              "      <td>Travail</td>\n",
              "      <td>Droit du travail</td>\n",
              "    </tr>\n",
              "  </tbody>\n",
              "</table>\n",
              "</div>\n",
              "    <div class=\"colab-df-buttons\">\n",
              "\n",
              "  <div class=\"colab-df-container\">\n",
              "    <button class=\"colab-df-convert\" onclick=\"convertToInteractive('df-b3685120-9138-48be-8f82-312b9fedf9b3')\"\n",
              "            title=\"Convert this dataframe to an interactive table.\"\n",
              "            style=\"display:none;\">\n",
              "\n",
              "  <svg xmlns=\"http://www.w3.org/2000/svg\" height=\"24px\" viewBox=\"0 -960 960 960\">\n",
              "    <path d=\"M120-120v-720h720v720H120Zm60-500h600v-160H180v160Zm220 220h160v-160H400v160Zm0 220h160v-160H400v160ZM180-400h160v-160H180v160Zm440 0h160v-160H620v160ZM180-180h160v-160H180v160Zm440 0h160v-160H620v160Z\"/>\n",
              "  </svg>\n",
              "    </button>\n",
              "\n",
              "  <style>\n",
              "    .colab-df-container {\n",
              "      display:flex;\n",
              "      gap: 12px;\n",
              "    }\n",
              "\n",
              "    .colab-df-convert {\n",
              "      background-color: #E8F0FE;\n",
              "      border: none;\n",
              "      border-radius: 50%;\n",
              "      cursor: pointer;\n",
              "      display: none;\n",
              "      fill: #1967D2;\n",
              "      height: 32px;\n",
              "      padding: 0 0 0 0;\n",
              "      width: 32px;\n",
              "    }\n",
              "\n",
              "    .colab-df-convert:hover {\n",
              "      background-color: #E2EBFA;\n",
              "      box-shadow: 0px 1px 2px rgba(60, 64, 67, 0.3), 0px 1px 3px 1px rgba(60, 64, 67, 0.15);\n",
              "      fill: #174EA6;\n",
              "    }\n",
              "\n",
              "    .colab-df-buttons div {\n",
              "      margin-bottom: 4px;\n",
              "    }\n",
              "\n",
              "    [theme=dark] .colab-df-convert {\n",
              "      background-color: #3B4455;\n",
              "      fill: #D2E3FC;\n",
              "    }\n",
              "\n",
              "    [theme=dark] .colab-df-convert:hover {\n",
              "      background-color: #434B5C;\n",
              "      box-shadow: 0px 1px 3px 1px rgba(0, 0, 0, 0.15);\n",
              "      filter: drop-shadow(0px 1px 2px rgba(0, 0, 0, 0.3));\n",
              "      fill: #FFFFFF;\n",
              "    }\n",
              "  </style>\n",
              "\n",
              "    <script>\n",
              "      const buttonEl =\n",
              "        document.querySelector('#df-b3685120-9138-48be-8f82-312b9fedf9b3 button.colab-df-convert');\n",
              "      buttonEl.style.display =\n",
              "        google.colab.kernel.accessAllowed ? 'block' : 'none';\n",
              "\n",
              "      async function convertToInteractive(key) {\n",
              "        const element = document.querySelector('#df-b3685120-9138-48be-8f82-312b9fedf9b3');\n",
              "        const dataTable =\n",
              "          await google.colab.kernel.invokeFunction('convertToInteractive',\n",
              "                                                    [key], {});\n",
              "        if (!dataTable) return;\n",
              "\n",
              "        const docLinkHtml = 'Like what you see? Visit the ' +\n",
              "          '<a target=\"_blank\" href=https://colab.research.google.com/notebooks/data_table.ipynb>data table notebook</a>'\n",
              "          + ' to learn more about interactive tables.';\n",
              "        element.innerHTML = '';\n",
              "        dataTable['output_type'] = 'display_data';\n",
              "        await google.colab.output.renderOutput(dataTable, element);\n",
              "        const docLink = document.createElement('div');\n",
              "        docLink.innerHTML = docLinkHtml;\n",
              "        element.appendChild(docLink);\n",
              "      }\n",
              "    </script>\n",
              "  </div>\n",
              "\n",
              "\n",
              "    <div id=\"df-ebfd5448-025d-418b-a4d3-422f84f5ee84\">\n",
              "      <button class=\"colab-df-quickchart\" onclick=\"quickchart('df-ebfd5448-025d-418b-a4d3-422f84f5ee84')\"\n",
              "                title=\"Suggest charts\"\n",
              "                style=\"display:none;\">\n",
              "\n",
              "<svg xmlns=\"http://www.w3.org/2000/svg\" height=\"24px\"viewBox=\"0 0 24 24\"\n",
              "     width=\"24px\">\n",
              "    <g>\n",
              "        <path d=\"M19 3H5c-1.1 0-2 .9-2 2v14c0 1.1.9 2 2 2h14c1.1 0 2-.9 2-2V5c0-1.1-.9-2-2-2zM9 17H7v-7h2v7zm4 0h-2V7h2v10zm4 0h-2v-4h2v4z\"/>\n",
              "    </g>\n",
              "</svg>\n",
              "      </button>\n",
              "\n",
              "<style>\n",
              "  .colab-df-quickchart {\n",
              "      --bg-color: #E8F0FE;\n",
              "      --fill-color: #1967D2;\n",
              "      --hover-bg-color: #E2EBFA;\n",
              "      --hover-fill-color: #174EA6;\n",
              "      --disabled-fill-color: #AAA;\n",
              "      --disabled-bg-color: #DDD;\n",
              "  }\n",
              "\n",
              "  [theme=dark] .colab-df-quickchart {\n",
              "      --bg-color: #3B4455;\n",
              "      --fill-color: #D2E3FC;\n",
              "      --hover-bg-color: #434B5C;\n",
              "      --hover-fill-color: #FFFFFF;\n",
              "      --disabled-bg-color: #3B4455;\n",
              "      --disabled-fill-color: #666;\n",
              "  }\n",
              "\n",
              "  .colab-df-quickchart {\n",
              "    background-color: var(--bg-color);\n",
              "    border: none;\n",
              "    border-radius: 50%;\n",
              "    cursor: pointer;\n",
              "    display: none;\n",
              "    fill: var(--fill-color);\n",
              "    height: 32px;\n",
              "    padding: 0;\n",
              "    width: 32px;\n",
              "  }\n",
              "\n",
              "  .colab-df-quickchart:hover {\n",
              "    background-color: var(--hover-bg-color);\n",
              "    box-shadow: 0 1px 2px rgba(60, 64, 67, 0.3), 0 1px 3px 1px rgba(60, 64, 67, 0.15);\n",
              "    fill: var(--button-hover-fill-color);\n",
              "  }\n",
              "\n",
              "  .colab-df-quickchart-complete:disabled,\n",
              "  .colab-df-quickchart-complete:disabled:hover {\n",
              "    background-color: var(--disabled-bg-color);\n",
              "    fill: var(--disabled-fill-color);\n",
              "    box-shadow: none;\n",
              "  }\n",
              "\n",
              "  .colab-df-spinner {\n",
              "    border: 2px solid var(--fill-color);\n",
              "    border-color: transparent;\n",
              "    border-bottom-color: var(--fill-color);\n",
              "    animation:\n",
              "      spin 1s steps(1) infinite;\n",
              "  }\n",
              "\n",
              "  @keyframes spin {\n",
              "    0% {\n",
              "      border-color: transparent;\n",
              "      border-bottom-color: var(--fill-color);\n",
              "      border-left-color: var(--fill-color);\n",
              "    }\n",
              "    20% {\n",
              "      border-color: transparent;\n",
              "      border-left-color: var(--fill-color);\n",
              "      border-top-color: var(--fill-color);\n",
              "    }\n",
              "    30% {\n",
              "      border-color: transparent;\n",
              "      border-left-color: var(--fill-color);\n",
              "      border-top-color: var(--fill-color);\n",
              "      border-right-color: var(--fill-color);\n",
              "    }\n",
              "    40% {\n",
              "      border-color: transparent;\n",
              "      border-right-color: var(--fill-color);\n",
              "      border-top-color: var(--fill-color);\n",
              "    }\n",
              "    60% {\n",
              "      border-color: transparent;\n",
              "      border-right-color: var(--fill-color);\n",
              "    }\n",
              "    80% {\n",
              "      border-color: transparent;\n",
              "      border-right-color: var(--fill-color);\n",
              "      border-bottom-color: var(--fill-color);\n",
              "    }\n",
              "    90% {\n",
              "      border-color: transparent;\n",
              "      border-bottom-color: var(--fill-color);\n",
              "    }\n",
              "  }\n",
              "</style>\n",
              "\n",
              "      <script>\n",
              "        async function quickchart(key) {\n",
              "          const quickchartButtonEl =\n",
              "            document.querySelector('#' + key + ' button');\n",
              "          quickchartButtonEl.disabled = true;  // To prevent multiple clicks.\n",
              "          quickchartButtonEl.classList.add('colab-df-spinner');\n",
              "          try {\n",
              "            const charts = await google.colab.kernel.invokeFunction(\n",
              "                'suggestCharts', [key], {});\n",
              "          } catch (error) {\n",
              "            console.error('Error during call to suggestCharts:', error);\n",
              "          }\n",
              "          quickchartButtonEl.classList.remove('colab-df-spinner');\n",
              "          quickchartButtonEl.classList.add('colab-df-quickchart-complete');\n",
              "        }\n",
              "        (() => {\n",
              "          let quickchartButtonEl =\n",
              "            document.querySelector('#df-ebfd5448-025d-418b-a4d3-422f84f5ee84 button');\n",
              "          quickchartButtonEl.style.display =\n",
              "            google.colab.kernel.accessAllowed ? 'block' : 'none';\n",
              "        })();\n",
              "      </script>\n",
              "    </div>\n",
              "\n",
              "    </div>\n",
              "  </div>\n"
            ],
            "text/plain": [
              "                                            question  category  \\\n",
              "0  Je suis travailleur salarié(e). Puis-je refuse...   Travail   \n",
              "1                  Peut-on saisir tous mes revenus ?    Argent   \n",
              "2  Je suis marié(e). Nous sommes mariés. Dois-je ...   Famille   \n",
              "3  Je mets un kot en location (bail de droit comm...  Logement   \n",
              "4  Suis-je payé pendant la procédure du trajet de...   Travail   \n",
              "\n",
              "        super_category  \n",
              "0     Droit du travail  \n",
              "1      Droit financier  \n",
              "2  Droit de la famille  \n",
              "3     Droit immobilier  \n",
              "4     Droit du travail  "
            ]
          },
          "execution_count": 18,
          "metadata": {},
          "output_type": "execute_result"
        }
      ],
      "source": [
        "df.head()"
      ]
    },
    {
      "cell_type": "code",
      "execution_count": null,
      "metadata": {
        "id": "XqPzAuO1n_69"
      },
      "outputs": [],
      "source": [
        "df=df.drop(['category'], axis=1)\n"
      ]
    },
    {
      "cell_type": "code",
      "execution_count": null,
      "metadata": {
        "colab": {
          "base_uri": "https://localhost:8080/",
          "height": 206
        },
        "id": "Jz4zPZ_mZusY",
        "outputId": "a5519c29-c462-470c-ae3e-878d6b593515"
      },
      "outputs": [
        {
          "data": {
            "application/vnd.google.colaboratory.intrinsic+json": {
              "summary": "{\n  \"name\": \"df\",\n  \"rows\": 1108,\n  \"fields\": [\n    {\n      \"column\": \"question\",\n      \"properties\": {\n        \"dtype\": \"string\",\n        \"num_unique_values\": 1032,\n        \"samples\": [\n          \"Comment dois-je renoncer \\u00e0 une succession ?\",\n          \"Les p\\u00e8re et m\\u00e8re de l'enfant r\\u00e9sident s\\u00e9par\\u00e9ment. Que faire si l'autre parent a pris une d\\u00e9cision avec laquelle je ne suis pas d'accord concernant notre enfant ?\",\n          \"Je me suis port\\u00e9 caution pour une personne endett\\u00e9e qui ne veut pas introduire de RCD. Que puis-je faire ?\"\n        ],\n        \"semantic_type\": \"\",\n        \"description\": \"\"\n      }\n    },\n    {\n      \"column\": \"super_category\",\n      \"properties\": {\n        \"dtype\": \"category\",\n        \"num_unique_values\": 7,\n        \"samples\": [\n          \"Droit du travail\",\n          \"Droit financier\",\n          \"Droit p\\u00e9nal\"\n        ],\n        \"semantic_type\": \"\",\n        \"description\": \"\"\n      }\n    }\n  ]\n}",
              "type": "dataframe",
              "variable_name": "df"
            },
            "text/html": [
              "\n",
              "  <div id=\"df-3019eb7c-5c7b-4c20-af2b-aa768ad6ab5d\" class=\"colab-df-container\">\n",
              "    <div>\n",
              "<style scoped>\n",
              "    .dataframe tbody tr th:only-of-type {\n",
              "        vertical-align: middle;\n",
              "    }\n",
              "\n",
              "    .dataframe tbody tr th {\n",
              "        vertical-align: top;\n",
              "    }\n",
              "\n",
              "    .dataframe thead th {\n",
              "        text-align: right;\n",
              "    }\n",
              "</style>\n",
              "<table border=\"1\" class=\"dataframe\">\n",
              "  <thead>\n",
              "    <tr style=\"text-align: right;\">\n",
              "      <th></th>\n",
              "      <th>question</th>\n",
              "      <th>super_category</th>\n",
              "    </tr>\n",
              "  </thead>\n",
              "  <tbody>\n",
              "    <tr>\n",
              "      <th>0</th>\n",
              "      <td>Je suis travailleur salarié(e). Puis-je refuse...</td>\n",
              "      <td>Droit du travail</td>\n",
              "    </tr>\n",
              "    <tr>\n",
              "      <th>1</th>\n",
              "      <td>Peut-on saisir tous mes revenus ?</td>\n",
              "      <td>Droit financier</td>\n",
              "    </tr>\n",
              "    <tr>\n",
              "      <th>2</th>\n",
              "      <td>Je suis marié(e). Nous sommes mariés. Dois-je ...</td>\n",
              "      <td>Droit de la famille</td>\n",
              "    </tr>\n",
              "    <tr>\n",
              "      <th>3</th>\n",
              "      <td>Je mets un kot en location (bail de droit comm...</td>\n",
              "      <td>Droit immobilier</td>\n",
              "    </tr>\n",
              "    <tr>\n",
              "      <th>4</th>\n",
              "      <td>Suis-je payé pendant la procédure du trajet de...</td>\n",
              "      <td>Droit du travail</td>\n",
              "    </tr>\n",
              "  </tbody>\n",
              "</table>\n",
              "</div>\n",
              "    <div class=\"colab-df-buttons\">\n",
              "\n",
              "  <div class=\"colab-df-container\">\n",
              "    <button class=\"colab-df-convert\" onclick=\"convertToInteractive('df-3019eb7c-5c7b-4c20-af2b-aa768ad6ab5d')\"\n",
              "            title=\"Convert this dataframe to an interactive table.\"\n",
              "            style=\"display:none;\">\n",
              "\n",
              "  <svg xmlns=\"http://www.w3.org/2000/svg\" height=\"24px\" viewBox=\"0 -960 960 960\">\n",
              "    <path d=\"M120-120v-720h720v720H120Zm60-500h600v-160H180v160Zm220 220h160v-160H400v160Zm0 220h160v-160H400v160ZM180-400h160v-160H180v160Zm440 0h160v-160H620v160ZM180-180h160v-160H180v160Zm440 0h160v-160H620v160Z\"/>\n",
              "  </svg>\n",
              "    </button>\n",
              "\n",
              "  <style>\n",
              "    .colab-df-container {\n",
              "      display:flex;\n",
              "      gap: 12px;\n",
              "    }\n",
              "\n",
              "    .colab-df-convert {\n",
              "      background-color: #E8F0FE;\n",
              "      border: none;\n",
              "      border-radius: 50%;\n",
              "      cursor: pointer;\n",
              "      display: none;\n",
              "      fill: #1967D2;\n",
              "      height: 32px;\n",
              "      padding: 0 0 0 0;\n",
              "      width: 32px;\n",
              "    }\n",
              "\n",
              "    .colab-df-convert:hover {\n",
              "      background-color: #E2EBFA;\n",
              "      box-shadow: 0px 1px 2px rgba(60, 64, 67, 0.3), 0px 1px 3px 1px rgba(60, 64, 67, 0.15);\n",
              "      fill: #174EA6;\n",
              "    }\n",
              "\n",
              "    .colab-df-buttons div {\n",
              "      margin-bottom: 4px;\n",
              "    }\n",
              "\n",
              "    [theme=dark] .colab-df-convert {\n",
              "      background-color: #3B4455;\n",
              "      fill: #D2E3FC;\n",
              "    }\n",
              "\n",
              "    [theme=dark] .colab-df-convert:hover {\n",
              "      background-color: #434B5C;\n",
              "      box-shadow: 0px 1px 3px 1px rgba(0, 0, 0, 0.15);\n",
              "      filter: drop-shadow(0px 1px 2px rgba(0, 0, 0, 0.3));\n",
              "      fill: #FFFFFF;\n",
              "    }\n",
              "  </style>\n",
              "\n",
              "    <script>\n",
              "      const buttonEl =\n",
              "        document.querySelector('#df-3019eb7c-5c7b-4c20-af2b-aa768ad6ab5d button.colab-df-convert');\n",
              "      buttonEl.style.display =\n",
              "        google.colab.kernel.accessAllowed ? 'block' : 'none';\n",
              "\n",
              "      async function convertToInteractive(key) {\n",
              "        const element = document.querySelector('#df-3019eb7c-5c7b-4c20-af2b-aa768ad6ab5d');\n",
              "        const dataTable =\n",
              "          await google.colab.kernel.invokeFunction('convertToInteractive',\n",
              "                                                    [key], {});\n",
              "        if (!dataTable) return;\n",
              "\n",
              "        const docLinkHtml = 'Like what you see? Visit the ' +\n",
              "          '<a target=\"_blank\" href=https://colab.research.google.com/notebooks/data_table.ipynb>data table notebook</a>'\n",
              "          + ' to learn more about interactive tables.';\n",
              "        element.innerHTML = '';\n",
              "        dataTable['output_type'] = 'display_data';\n",
              "        await google.colab.output.renderOutput(dataTable, element);\n",
              "        const docLink = document.createElement('div');\n",
              "        docLink.innerHTML = docLinkHtml;\n",
              "        element.appendChild(docLink);\n",
              "      }\n",
              "    </script>\n",
              "  </div>\n",
              "\n",
              "\n",
              "    <div id=\"df-32000c65-34bc-464d-ad95-b86d0162e69e\">\n",
              "      <button class=\"colab-df-quickchart\" onclick=\"quickchart('df-32000c65-34bc-464d-ad95-b86d0162e69e')\"\n",
              "                title=\"Suggest charts\"\n",
              "                style=\"display:none;\">\n",
              "\n",
              "<svg xmlns=\"http://www.w3.org/2000/svg\" height=\"24px\"viewBox=\"0 0 24 24\"\n",
              "     width=\"24px\">\n",
              "    <g>\n",
              "        <path d=\"M19 3H5c-1.1 0-2 .9-2 2v14c0 1.1.9 2 2 2h14c1.1 0 2-.9 2-2V5c0-1.1-.9-2-2-2zM9 17H7v-7h2v7zm4 0h-2V7h2v10zm4 0h-2v-4h2v4z\"/>\n",
              "    </g>\n",
              "</svg>\n",
              "      </button>\n",
              "\n",
              "<style>\n",
              "  .colab-df-quickchart {\n",
              "      --bg-color: #E8F0FE;\n",
              "      --fill-color: #1967D2;\n",
              "      --hover-bg-color: #E2EBFA;\n",
              "      --hover-fill-color: #174EA6;\n",
              "      --disabled-fill-color: #AAA;\n",
              "      --disabled-bg-color: #DDD;\n",
              "  }\n",
              "\n",
              "  [theme=dark] .colab-df-quickchart {\n",
              "      --bg-color: #3B4455;\n",
              "      --fill-color: #D2E3FC;\n",
              "      --hover-bg-color: #434B5C;\n",
              "      --hover-fill-color: #FFFFFF;\n",
              "      --disabled-bg-color: #3B4455;\n",
              "      --disabled-fill-color: #666;\n",
              "  }\n",
              "\n",
              "  .colab-df-quickchart {\n",
              "    background-color: var(--bg-color);\n",
              "    border: none;\n",
              "    border-radius: 50%;\n",
              "    cursor: pointer;\n",
              "    display: none;\n",
              "    fill: var(--fill-color);\n",
              "    height: 32px;\n",
              "    padding: 0;\n",
              "    width: 32px;\n",
              "  }\n",
              "\n",
              "  .colab-df-quickchart:hover {\n",
              "    background-color: var(--hover-bg-color);\n",
              "    box-shadow: 0 1px 2px rgba(60, 64, 67, 0.3), 0 1px 3px 1px rgba(60, 64, 67, 0.15);\n",
              "    fill: var(--button-hover-fill-color);\n",
              "  }\n",
              "\n",
              "  .colab-df-quickchart-complete:disabled,\n",
              "  .colab-df-quickchart-complete:disabled:hover {\n",
              "    background-color: var(--disabled-bg-color);\n",
              "    fill: var(--disabled-fill-color);\n",
              "    box-shadow: none;\n",
              "  }\n",
              "\n",
              "  .colab-df-spinner {\n",
              "    border: 2px solid var(--fill-color);\n",
              "    border-color: transparent;\n",
              "    border-bottom-color: var(--fill-color);\n",
              "    animation:\n",
              "      spin 1s steps(1) infinite;\n",
              "  }\n",
              "\n",
              "  @keyframes spin {\n",
              "    0% {\n",
              "      border-color: transparent;\n",
              "      border-bottom-color: var(--fill-color);\n",
              "      border-left-color: var(--fill-color);\n",
              "    }\n",
              "    20% {\n",
              "      border-color: transparent;\n",
              "      border-left-color: var(--fill-color);\n",
              "      border-top-color: var(--fill-color);\n",
              "    }\n",
              "    30% {\n",
              "      border-color: transparent;\n",
              "      border-left-color: var(--fill-color);\n",
              "      border-top-color: var(--fill-color);\n",
              "      border-right-color: var(--fill-color);\n",
              "    }\n",
              "    40% {\n",
              "      border-color: transparent;\n",
              "      border-right-color: var(--fill-color);\n",
              "      border-top-color: var(--fill-color);\n",
              "    }\n",
              "    60% {\n",
              "      border-color: transparent;\n",
              "      border-right-color: var(--fill-color);\n",
              "    }\n",
              "    80% {\n",
              "      border-color: transparent;\n",
              "      border-right-color: var(--fill-color);\n",
              "      border-bottom-color: var(--fill-color);\n",
              "    }\n",
              "    90% {\n",
              "      border-color: transparent;\n",
              "      border-bottom-color: var(--fill-color);\n",
              "    }\n",
              "  }\n",
              "</style>\n",
              "\n",
              "      <script>\n",
              "        async function quickchart(key) {\n",
              "          const quickchartButtonEl =\n",
              "            document.querySelector('#' + key + ' button');\n",
              "          quickchartButtonEl.disabled = true;  // To prevent multiple clicks.\n",
              "          quickchartButtonEl.classList.add('colab-df-spinner');\n",
              "          try {\n",
              "            const charts = await google.colab.kernel.invokeFunction(\n",
              "                'suggestCharts', [key], {});\n",
              "          } catch (error) {\n",
              "            console.error('Error during call to suggestCharts:', error);\n",
              "          }\n",
              "          quickchartButtonEl.classList.remove('colab-df-spinner');\n",
              "          quickchartButtonEl.classList.add('colab-df-quickchart-complete');\n",
              "        }\n",
              "        (() => {\n",
              "          let quickchartButtonEl =\n",
              "            document.querySelector('#df-32000c65-34bc-464d-ad95-b86d0162e69e button');\n",
              "          quickchartButtonEl.style.display =\n",
              "            google.colab.kernel.accessAllowed ? 'block' : 'none';\n",
              "        })();\n",
              "      </script>\n",
              "    </div>\n",
              "\n",
              "    </div>\n",
              "  </div>\n"
            ],
            "text/plain": [
              "                                            question       super_category\n",
              "0  Je suis travailleur salarié(e). Puis-je refuse...     Droit du travail\n",
              "1                  Peut-on saisir tous mes revenus ?      Droit financier\n",
              "2  Je suis marié(e). Nous sommes mariés. Dois-je ...  Droit de la famille\n",
              "3  Je mets un kot en location (bail de droit comm...     Droit immobilier\n",
              "4  Suis-je payé pendant la procédure du trajet de...     Droit du travail"
            ]
          },
          "execution_count": 21,
          "metadata": {},
          "output_type": "execute_result"
        }
      ],
      "source": [
        "df.head()"
      ]
    },
    {
      "cell_type": "markdown",
      "metadata": {
        "id": "fZ3W5cLobnNd"
      },
      "source": [
        "***Workflow for Data Augmentation:***\n",
        "\n",
        "*   ***Translate the French queries to English***\n",
        "*   ***Paraphrase the translated queries in English***\n",
        "*   ***Translate the paraphrased back to French***\n",
        "\n",
        "\n"
      ]
    },
    {
      "cell_type": "code",
      "execution_count": null,
      "metadata": {
        "id": "bJsO4vl_c2uD"
      },
      "outputs": [],
      "source": [
        "\n",
        "\n",
        "device = \"cuda\" if torch.cuda.is_available() else \"cpu\"\n",
        "df[\"question\"] = df[\"question\"].fillna(\"\").astype(str)"
      ]
    },
    {
      "cell_type": "markdown",
      "metadata": {
        "id": "iVAzIEYUdp5t"
      },
      "source": [
        "***Loading traslation models***"
      ]
    },
    {
      "cell_type": "code",
      "execution_count": null,
      "metadata": {
        "collapsed": true,
        "id": "ePeUKeIDdpg3"
      },
      "outputs": [],
      "source": [
        "#FR->EN\n",
        "fr_en_model_name = \"Helsinki-NLP/opus-mt-fr-en\"\n",
        "fr_en_tok = MarianTokenizer.from_pretrained(fr_en_model_name)\n",
        "fr_en_model = MarianMTModel.from_pretrained(fr_en_model_name).to(device)\n",
        "\n",
        "def translate_fr_to_en_batch(texts, max_length=256):\n",
        "    enc = fr_en_tok(texts, return_tensors=\"pt\", padding=True, truncation=True, max_length=max_length).to(device)\n",
        "    with torch.no_grad():\n",
        "        out = fr_en_model.generate(\n",
        "            **enc,\n",
        "            max_length=max_length,\n",
        "            num_beams=6,\n",
        "            do_sample=False\n",
        "        )\n",
        "    decoded = fr_en_tok.batch_decode(out, skip_special_tokens=True)\n",
        "    return decoded\n",
        "\n",
        "#EN->FR\n",
        "en_fr_model_name = \"Helsinki-NLP/opus-mt-en-fr\"\n",
        "en_fr_tok = MarianTokenizer.from_pretrained(en_fr_model_name)\n",
        "en_fr_model = MarianMTModel.from_pretrained(en_fr_model_name).to(device)\n",
        "\n",
        "def translate_en_to_fr_batch(texts, max_length=256):\n",
        "    enc = en_fr_tok(texts, return_tensors=\"pt\", padding=True, truncation=True, max_length=max_length).to(device)\n",
        "    with torch.no_grad():\n",
        "        out = en_fr_model.generate(\n",
        "            **enc,\n",
        "            max_length=max_length,\n",
        "            num_beams=6,\n",
        "            do_sample=False\n",
        "        )\n",
        "    decoded = en_fr_tok.batch_decode(out, skip_special_tokens=True)\n",
        "    return decoded"
      ]
    },
    {
      "cell_type": "markdown",
      "metadata": {
        "id": "YjTE7wOydJUg"
      },
      "source": [
        "***Loading Pegasus model for paraphrasing***"
      ]
    },
    {
      "cell_type": "code",
      "execution_count": null,
      "metadata": {
        "colab": {
          "background_save": true
        },
        "collapsed": true,
        "id": "slKwF6l0dR1J"
      },
      "outputs": [],
      "source": [
        "pegasus_name = \"tuner007/pegasus_paraphrase\"\n",
        "peg_tok = PegasusTokenizer.from_pretrained(pegasus_name)\n",
        "peg_model = PegasusForConditionalGeneration.from_pretrained(pegasus_name).to(device)\n",
        "\n",
        "def paraphrase_en_batch(texts, max_length=60):\n",
        "    prompts = [\"paraphrase: \" + (t or \"\") for t in texts]\n",
        "    enc = peg_tok(prompts, return_tensors=\"pt\", padding=True, truncation=True, max_length=256).to(device)\n",
        "\n",
        "    with torch.no_grad():\n",
        "        out = peg_model.generate(\n",
        "            **enc,\n",
        "            max_length=max_length,     # cap length of paraphrase\n",
        "            num_beams=10,              # search quality\n",
        "            num_return_sequences=1,    # exactly one paraphrase per input\n",
        "            do_sample=False,           # deterministic\n",
        "            no_repeat_ngram_size=3     # avoid trivial repeats\n",
        "        )\n",
        "\n",
        "    decoded = peg_tok.batch_decode(out, skip_special_tokens=True)\n",
        "    return decoded"
      ]
    },
    {
      "cell_type": "markdown",
      "metadata": {
        "id": "zHqdLYameV-2"
      },
      "source": [
        "***Using a batched Pipeline to increase speed***"
      ]
    },
    {
      "cell_type": "code",
      "execution_count": null,
      "metadata": {
        "id": "UfGxpZPyN3B7"
      },
      "outputs": [],
      "source": [
        "\n",
        "batch_size = 25\n",
        "french_inputs = df[\"question\"].tolist()\n",
        "\n",
        "eng_trans = []\n",
        "eng_paras = []\n",
        "fr_paras = []\n",
        "\n",
        "for start in tqdm(range(0, len(french_inputs), batch_size), desc=\"Paraphrasing & Back-translating\"):\n",
        "    # Slice a batch\n",
        "    batch = french_inputs[start:start+batch_size]\n",
        "    # Translate the french inputs\n",
        "    batch_eng_trans = translate_fr_to_en_batch(batch, max_length=256)\n",
        "\n",
        "    # English paraphrase\n",
        "    batch_eng_paras = paraphrase_en_batch(batch_eng_trans, max_length=60)\n",
        "\n",
        "    # Translate that paraphrase back to French\n",
        "    batch_fr_paras = translate_en_to_fr_batch(batch_eng_paras, max_length=256)\n",
        "\n",
        "    # Accumulate results\n",
        "    eng_trans.extend(batch_eng_trans)\n",
        "    eng_paras.extend(batch_eng_paras)\n",
        "    fr_paras.extend(batch_fr_paras)\n",
        "\n",
        "# Attach to dataframe\n",
        "df[\"English_translated\"] = eng_trans\n",
        "df[\"English_Paraphrase\"] = eng_paras\n",
        "df[\"French_Paraphrase\"]  = fr_paras\n",
        "\n",
        "\n",
        "#save the dataset\n",
        "out_path = \"fr_english_trans_paras_data.csv\"\n",
        "df.to_csv(out_path, index=False)\n",
        "print(\"done!\")\n",
        "\n"
      ]
    },
    {
      "cell_type": "markdown",
      "metadata": {
        "id": "WVyqKUmKVuEn"
      },
      "source": [
        "***Organizing and saving the datasets***"
      ]
    },
    {
      "cell_type": "code",
      "source": [
        "df=pd.read_csv(\"fr_english_trans_paras_data.csv\", encoding=\"utf-8\" , sep=',')"
      ],
      "metadata": {
        "id": "yg91afW2j_Bs"
      },
      "execution_count": 28,
      "outputs": []
    },
    {
      "cell_type": "code",
      "execution_count": 29,
      "metadata": {
        "id": "SZ9dAoMwKrUY"
      },
      "outputs": [],
      "source": [
        "df_melted = pd.melt(df,\n",
        "                       id_vars=['super_category'],\n",
        "                       value_vars=['question', 'English_translated', 'English_Paraphrase', 'French_Paraphrase'],\n",
        "                       var_name='langage_column',\n",
        "                       value_name='query')"
      ]
    },
    {
      "cell_type": "code",
      "execution_count": 30,
      "metadata": {
        "id": "Qs0HEacQRi1f",
        "colab": {
          "base_uri": "https://localhost:8080/",
          "height": 206
        },
        "outputId": "dedb643c-daa3-48b0-d613-0df10ef0ee15"
      },
      "outputs": [
        {
          "output_type": "execute_result",
          "data": {
            "text/plain": [
              "        super_category langage_column  \\\n",
              "0     Droit du travail       question   \n",
              "1      Droit financier       question   \n",
              "2  Droit de la famille       question   \n",
              "3     Droit immobilier       question   \n",
              "4     Droit du travail       question   \n",
              "\n",
              "                                               query  \n",
              "0  Je suis travailleur salarié(e). Puis-je refuse...  \n",
              "1                  Peut-on saisir tous mes revenus ?  \n",
              "2  Je suis marié(e). Nous sommes mariés. Dois-je ...  \n",
              "3  Je mets un kot en location (bail de droit comm...  \n",
              "4  Suis-je payé pendant la procédure du trajet de...  "
            ],
            "text/html": [
              "\n",
              "  <div id=\"df-585468a7-5635-47bf-8898-196c03fb17b8\" class=\"colab-df-container\">\n",
              "    <div>\n",
              "<style scoped>\n",
              "    .dataframe tbody tr th:only-of-type {\n",
              "        vertical-align: middle;\n",
              "    }\n",
              "\n",
              "    .dataframe tbody tr th {\n",
              "        vertical-align: top;\n",
              "    }\n",
              "\n",
              "    .dataframe thead th {\n",
              "        text-align: right;\n",
              "    }\n",
              "</style>\n",
              "<table border=\"1\" class=\"dataframe\">\n",
              "  <thead>\n",
              "    <tr style=\"text-align: right;\">\n",
              "      <th></th>\n",
              "      <th>super_category</th>\n",
              "      <th>langage_column</th>\n",
              "      <th>query</th>\n",
              "    </tr>\n",
              "  </thead>\n",
              "  <tbody>\n",
              "    <tr>\n",
              "      <th>0</th>\n",
              "      <td>Droit du travail</td>\n",
              "      <td>question</td>\n",
              "      <td>Je suis travailleur salarié(e). Puis-je refuse...</td>\n",
              "    </tr>\n",
              "    <tr>\n",
              "      <th>1</th>\n",
              "      <td>Droit financier</td>\n",
              "      <td>question</td>\n",
              "      <td>Peut-on saisir tous mes revenus ?</td>\n",
              "    </tr>\n",
              "    <tr>\n",
              "      <th>2</th>\n",
              "      <td>Droit de la famille</td>\n",
              "      <td>question</td>\n",
              "      <td>Je suis marié(e). Nous sommes mariés. Dois-je ...</td>\n",
              "    </tr>\n",
              "    <tr>\n",
              "      <th>3</th>\n",
              "      <td>Droit immobilier</td>\n",
              "      <td>question</td>\n",
              "      <td>Je mets un kot en location (bail de droit comm...</td>\n",
              "    </tr>\n",
              "    <tr>\n",
              "      <th>4</th>\n",
              "      <td>Droit du travail</td>\n",
              "      <td>question</td>\n",
              "      <td>Suis-je payé pendant la procédure du trajet de...</td>\n",
              "    </tr>\n",
              "  </tbody>\n",
              "</table>\n",
              "</div>\n",
              "    <div class=\"colab-df-buttons\">\n",
              "\n",
              "  <div class=\"colab-df-container\">\n",
              "    <button class=\"colab-df-convert\" onclick=\"convertToInteractive('df-585468a7-5635-47bf-8898-196c03fb17b8')\"\n",
              "            title=\"Convert this dataframe to an interactive table.\"\n",
              "            style=\"display:none;\">\n",
              "\n",
              "  <svg xmlns=\"http://www.w3.org/2000/svg\" height=\"24px\" viewBox=\"0 -960 960 960\">\n",
              "    <path d=\"M120-120v-720h720v720H120Zm60-500h600v-160H180v160Zm220 220h160v-160H400v160Zm0 220h160v-160H400v160ZM180-400h160v-160H180v160Zm440 0h160v-160H620v160ZM180-180h160v-160H180v160Zm440 0h160v-160H620v160Z\"/>\n",
              "  </svg>\n",
              "    </button>\n",
              "\n",
              "  <style>\n",
              "    .colab-df-container {\n",
              "      display:flex;\n",
              "      gap: 12px;\n",
              "    }\n",
              "\n",
              "    .colab-df-convert {\n",
              "      background-color: #E8F0FE;\n",
              "      border: none;\n",
              "      border-radius: 50%;\n",
              "      cursor: pointer;\n",
              "      display: none;\n",
              "      fill: #1967D2;\n",
              "      height: 32px;\n",
              "      padding: 0 0 0 0;\n",
              "      width: 32px;\n",
              "    }\n",
              "\n",
              "    .colab-df-convert:hover {\n",
              "      background-color: #E2EBFA;\n",
              "      box-shadow: 0px 1px 2px rgba(60, 64, 67, 0.3), 0px 1px 3px 1px rgba(60, 64, 67, 0.15);\n",
              "      fill: #174EA6;\n",
              "    }\n",
              "\n",
              "    .colab-df-buttons div {\n",
              "      margin-bottom: 4px;\n",
              "    }\n",
              "\n",
              "    [theme=dark] .colab-df-convert {\n",
              "      background-color: #3B4455;\n",
              "      fill: #D2E3FC;\n",
              "    }\n",
              "\n",
              "    [theme=dark] .colab-df-convert:hover {\n",
              "      background-color: #434B5C;\n",
              "      box-shadow: 0px 1px 3px 1px rgba(0, 0, 0, 0.15);\n",
              "      filter: drop-shadow(0px 1px 2px rgba(0, 0, 0, 0.3));\n",
              "      fill: #FFFFFF;\n",
              "    }\n",
              "  </style>\n",
              "\n",
              "    <script>\n",
              "      const buttonEl =\n",
              "        document.querySelector('#df-585468a7-5635-47bf-8898-196c03fb17b8 button.colab-df-convert');\n",
              "      buttonEl.style.display =\n",
              "        google.colab.kernel.accessAllowed ? 'block' : 'none';\n",
              "\n",
              "      async function convertToInteractive(key) {\n",
              "        const element = document.querySelector('#df-585468a7-5635-47bf-8898-196c03fb17b8');\n",
              "        const dataTable =\n",
              "          await google.colab.kernel.invokeFunction('convertToInteractive',\n",
              "                                                    [key], {});\n",
              "        if (!dataTable) return;\n",
              "\n",
              "        const docLinkHtml = 'Like what you see? Visit the ' +\n",
              "          '<a target=\"_blank\" href=https://colab.research.google.com/notebooks/data_table.ipynb>data table notebook</a>'\n",
              "          + ' to learn more about interactive tables.';\n",
              "        element.innerHTML = '';\n",
              "        dataTable['output_type'] = 'display_data';\n",
              "        await google.colab.output.renderOutput(dataTable, element);\n",
              "        const docLink = document.createElement('div');\n",
              "        docLink.innerHTML = docLinkHtml;\n",
              "        element.appendChild(docLink);\n",
              "      }\n",
              "    </script>\n",
              "  </div>\n",
              "\n",
              "\n",
              "    <div id=\"df-dcc865ed-5d88-4d85-a5a1-d5a0290edad4\">\n",
              "      <button class=\"colab-df-quickchart\" onclick=\"quickchart('df-dcc865ed-5d88-4d85-a5a1-d5a0290edad4')\"\n",
              "                title=\"Suggest charts\"\n",
              "                style=\"display:none;\">\n",
              "\n",
              "<svg xmlns=\"http://www.w3.org/2000/svg\" height=\"24px\"viewBox=\"0 0 24 24\"\n",
              "     width=\"24px\">\n",
              "    <g>\n",
              "        <path d=\"M19 3H5c-1.1 0-2 .9-2 2v14c0 1.1.9 2 2 2h14c1.1 0 2-.9 2-2V5c0-1.1-.9-2-2-2zM9 17H7v-7h2v7zm4 0h-2V7h2v10zm4 0h-2v-4h2v4z\"/>\n",
              "    </g>\n",
              "</svg>\n",
              "      </button>\n",
              "\n",
              "<style>\n",
              "  .colab-df-quickchart {\n",
              "      --bg-color: #E8F0FE;\n",
              "      --fill-color: #1967D2;\n",
              "      --hover-bg-color: #E2EBFA;\n",
              "      --hover-fill-color: #174EA6;\n",
              "      --disabled-fill-color: #AAA;\n",
              "      --disabled-bg-color: #DDD;\n",
              "  }\n",
              "\n",
              "  [theme=dark] .colab-df-quickchart {\n",
              "      --bg-color: #3B4455;\n",
              "      --fill-color: #D2E3FC;\n",
              "      --hover-bg-color: #434B5C;\n",
              "      --hover-fill-color: #FFFFFF;\n",
              "      --disabled-bg-color: #3B4455;\n",
              "      --disabled-fill-color: #666;\n",
              "  }\n",
              "\n",
              "  .colab-df-quickchart {\n",
              "    background-color: var(--bg-color);\n",
              "    border: none;\n",
              "    border-radius: 50%;\n",
              "    cursor: pointer;\n",
              "    display: none;\n",
              "    fill: var(--fill-color);\n",
              "    height: 32px;\n",
              "    padding: 0;\n",
              "    width: 32px;\n",
              "  }\n",
              "\n",
              "  .colab-df-quickchart:hover {\n",
              "    background-color: var(--hover-bg-color);\n",
              "    box-shadow: 0 1px 2px rgba(60, 64, 67, 0.3), 0 1px 3px 1px rgba(60, 64, 67, 0.15);\n",
              "    fill: var(--button-hover-fill-color);\n",
              "  }\n",
              "\n",
              "  .colab-df-quickchart-complete:disabled,\n",
              "  .colab-df-quickchart-complete:disabled:hover {\n",
              "    background-color: var(--disabled-bg-color);\n",
              "    fill: var(--disabled-fill-color);\n",
              "    box-shadow: none;\n",
              "  }\n",
              "\n",
              "  .colab-df-spinner {\n",
              "    border: 2px solid var(--fill-color);\n",
              "    border-color: transparent;\n",
              "    border-bottom-color: var(--fill-color);\n",
              "    animation:\n",
              "      spin 1s steps(1) infinite;\n",
              "  }\n",
              "\n",
              "  @keyframes spin {\n",
              "    0% {\n",
              "      border-color: transparent;\n",
              "      border-bottom-color: var(--fill-color);\n",
              "      border-left-color: var(--fill-color);\n",
              "    }\n",
              "    20% {\n",
              "      border-color: transparent;\n",
              "      border-left-color: var(--fill-color);\n",
              "      border-top-color: var(--fill-color);\n",
              "    }\n",
              "    30% {\n",
              "      border-color: transparent;\n",
              "      border-left-color: var(--fill-color);\n",
              "      border-top-color: var(--fill-color);\n",
              "      border-right-color: var(--fill-color);\n",
              "    }\n",
              "    40% {\n",
              "      border-color: transparent;\n",
              "      border-right-color: var(--fill-color);\n",
              "      border-top-color: var(--fill-color);\n",
              "    }\n",
              "    60% {\n",
              "      border-color: transparent;\n",
              "      border-right-color: var(--fill-color);\n",
              "    }\n",
              "    80% {\n",
              "      border-color: transparent;\n",
              "      border-right-color: var(--fill-color);\n",
              "      border-bottom-color: var(--fill-color);\n",
              "    }\n",
              "    90% {\n",
              "      border-color: transparent;\n",
              "      border-bottom-color: var(--fill-color);\n",
              "    }\n",
              "  }\n",
              "</style>\n",
              "\n",
              "      <script>\n",
              "        async function quickchart(key) {\n",
              "          const quickchartButtonEl =\n",
              "            document.querySelector('#' + key + ' button');\n",
              "          quickchartButtonEl.disabled = true;  // To prevent multiple clicks.\n",
              "          quickchartButtonEl.classList.add('colab-df-spinner');\n",
              "          try {\n",
              "            const charts = await google.colab.kernel.invokeFunction(\n",
              "                'suggestCharts', [key], {});\n",
              "          } catch (error) {\n",
              "            console.error('Error during call to suggestCharts:', error);\n",
              "          }\n",
              "          quickchartButtonEl.classList.remove('colab-df-spinner');\n",
              "          quickchartButtonEl.classList.add('colab-df-quickchart-complete');\n",
              "        }\n",
              "        (() => {\n",
              "          let quickchartButtonEl =\n",
              "            document.querySelector('#df-dcc865ed-5d88-4d85-a5a1-d5a0290edad4 button');\n",
              "          quickchartButtonEl.style.display =\n",
              "            google.colab.kernel.accessAllowed ? 'block' : 'none';\n",
              "        })();\n",
              "      </script>\n",
              "    </div>\n",
              "\n",
              "    </div>\n",
              "  </div>\n"
            ],
            "application/vnd.google.colaboratory.intrinsic+json": {
              "type": "dataframe",
              "variable_name": "df_melted",
              "summary": "{\n  \"name\": \"df_melted\",\n  \"rows\": 4432,\n  \"fields\": [\n    {\n      \"column\": \"super_category\",\n      \"properties\": {\n        \"dtype\": \"category\",\n        \"num_unique_values\": 7,\n        \"samples\": [\n          \"Droit du travail\",\n          \"Droit financier\",\n          \"Droit p\\u00e9nal\"\n        ],\n        \"semantic_type\": \"\",\n        \"description\": \"\"\n      }\n    },\n    {\n      \"column\": \"langage_column\",\n      \"properties\": {\n        \"dtype\": \"category\",\n        \"num_unique_values\": 4,\n        \"samples\": [\n          \"English_translated\",\n          \"French_Paraphrase\",\n          \"question\"\n        ],\n        \"semantic_type\": \"\",\n        \"description\": \"\"\n      }\n    },\n    {\n      \"column\": \"query\",\n      \"properties\": {\n        \"dtype\": \"string\",\n        \"num_unique_values\": 3835,\n        \"samples\": [\n          \"If my child doesn't do anything at school, do I still have to pay the maintenance contribution?\",\n          \"What is the use of the rental guarantee?\",\n          \"Quel est le co\\u00fbt d'un divorce en g\\u00e9n\\u00e9ral ?\"\n        ],\n        \"semantic_type\": \"\",\n        \"description\": \"\"\n      }\n    }\n  ]\n}"
            }
          },
          "metadata": {},
          "execution_count": 30
        }
      ],
      "source": [
        "df_melted.head()"
      ]
    },
    {
      "cell_type": "code",
      "execution_count": 31,
      "metadata": {
        "id": "XuYd9TvHSwHB"
      },
      "outputs": [],
      "source": [
        "english_df = df_melted[df_melted['langage_column'].isin(['English_Paraphrase', 'English_translated'])][['query', 'super_category']]\n",
        "french_df = df_melted[df_melted['langage_column'].isin(['French_Paraphrase', 'question'])][['query', 'super_category']]\n",
        "\n",
        "# Reset indexes\n",
        "english_df = english_df.reset_index(drop=True)\n",
        "french_df = french_df.reset_index(drop=True)\n",
        "#shuffling everything\n",
        "english_df = english_df.sample(frac=1).reset_index(drop=True)\n",
        "french_df = french_df.sample(frac=1).reset_index(drop=True)"
      ]
    },
    {
      "cell_type": "markdown",
      "metadata": {
        "id": "jGXIvj-9YaUW"
      },
      "source": [
        "***Preprocessing the datasets***"
      ]
    },
    {
      "cell_type": "code",
      "execution_count": 37,
      "metadata": {
        "id": "QFsrhgHxAWot"
      },
      "outputs": [],
      "source": [
        "\n",
        "nlp = spacy.load(\"fr_core_news_sm\")\n",
        "def preprocess_text(text):\n",
        "    doc= nlp(text)\n",
        "    tokens=[]\n",
        "    for token in doc:\n",
        "        if not token.is_stop and not token.is_punct:\n",
        "            tokens.append(token.lemma_.lower().strip())\n",
        "    return \" \".join(tokens)\n",
        "\n",
        "french_df['processed_text'] = french_df['query'].astype(str).apply(preprocess_text)"
      ]
    },
    {
      "cell_type": "code",
      "execution_count": 38,
      "metadata": {
        "id": "sRk9L758Zg6H"
      },
      "outputs": [],
      "source": [
        "\n",
        "nlp = spacy.load(\"en_core_web_sm\")\n",
        "def preprocess_text(text):\n",
        "    doc= nlp(text)\n",
        "    tokens=[]\n",
        "    for token in doc:\n",
        "        if not token.is_stop and not token.is_punct:\n",
        "            tokens.append(token.lemma_.lower().strip())\n",
        "    return \" \".join(tokens)\n",
        "\n",
        "english_df['processed_text'] = english_df['query'].astype(str).apply(preprocess_text)"
      ]
    },
    {
      "cell_type": "markdown",
      "metadata": {
        "id": "Cb-wrOygahSh"
      },
      "source": [
        "***Treating the marié(e and such parentheses problems with regex***"
      ]
    },
    {
      "cell_type": "code",
      "execution_count": 39,
      "metadata": {
        "id": "VpbUo_4iJDbl",
        "colab": {
          "base_uri": "https://localhost:8080/"
        },
        "outputId": "b40fa099-7547-439b-ccba-7d1d29fbf3d9"
      },
      "outputs": [
        {
          "output_type": "stream",
          "name": "stdout",
          "text": [
            "{'le(s', 'seul(e', 'domicilié(e', 'présent(e', 'endetté(e', 'salarié(e', 'marié(e', 'époux(se'}\n"
          ]
        }
      ],
      "source": [
        "import re\n",
        "pattern = r\"\\w+\\(\\w+\"  # a word, then '(', then another word/letter\n",
        "\n",
        "matches = french_df[french_df[\"processed_text\"].str.contains(pattern, regex=True, na=False)]\n",
        "\n",
        "unique_matches = set()\n",
        "for text in french_df[\"processed_text\"].dropna():\n",
        "    found = re.findall(pattern, text)\n",
        "    unique_matches.update(found)\n",
        "\n",
        "print(unique_matches)"
      ]
    },
    {
      "cell_type": "code",
      "execution_count": 40,
      "metadata": {
        "id": "DmDzqKCeCmxB"
      },
      "outputs": [],
      "source": [
        "import re\n",
        "def strip_orphan_paren_suffix(text: str) -> str:\n",
        "    text = str(text)\n",
        "    # remove \"(\" + any non-whitespace that follows, but only when it comes right after a letter\n",
        "    cleaned = re.sub(r\"(?<=[A-Za-zÀ-ÖØ-öø-ÿ])\\([^ \\t\\n\\r\\f\\v]+(?=\\s|$)\", \"\", text)\n",
        "    # collapse extra spaces from deletions\n",
        "    cleaned = re.sub(r\"\\s{2,}\", \" \", cleaned).strip()\n",
        "    return cleaned"
      ]
    },
    {
      "cell_type": "code",
      "execution_count": 41,
      "metadata": {
        "id": "IrqJ1BdhePoP"
      },
      "outputs": [],
      "source": [
        "french_df[\"processed_text_regex\"] = french_df[\"processed_text\"].apply(strip_orphan_paren_suffix)"
      ]
    },
    {
      "cell_type": "code",
      "execution_count": 42,
      "metadata": {
        "id": "h4Fi4SMjKSvX",
        "colab": {
          "base_uri": "https://localhost:8080/"
        },
        "outputId": "ee43c73f-1594-41ae-e759-e9fc3523594a"
      },
      "outputs": [
        {
          "output_type": "stream",
          "name": "stdout",
          "text": [
            "set()\n"
          ]
        }
      ],
      "source": [
        "#just to make sure everything is working\n",
        "unique_matches = set()\n",
        "for text in french_df[\"processed_text_regex\"].dropna():\n",
        "    found = re.findall(pattern, text)\n",
        "    unique_matches.update(found)\n",
        "\n",
        "print(unique_matches)"
      ]
    },
    {
      "cell_type": "markdown",
      "metadata": {
        "id": "30ePQLDKbMTQ"
      },
      "source": [
        "***Encoding the categories to numerical data using one hot encoding***"
      ]
    },
    {
      "cell_type": "code",
      "execution_count": 43,
      "metadata": {
        "id": "llgrqw-5dZMk"
      },
      "outputs": [],
      "source": [
        "#just renaming and dropping unnecessary columns for easier manipulation\n",
        "english_df=english_df.rename(columns={'super_category':'category'})\n",
        "\n",
        "french_df=french_df.drop(['processed_text','query'],axis=1)\n",
        "\n",
        "french_df=french_df.rename(columns={'super_category':'category','processed_text_regex':'processed_text'})\n"
      ]
    },
    {
      "cell_type": "code",
      "execution_count": 44,
      "metadata": {
        "id": "FTVgEo_UhvyQ"
      },
      "outputs": [],
      "source": [
        "#applying the one-hot encoding to langage column\n",
        "\n",
        "english_df['language'] = 'en'\n",
        "french_df['language'] = 'fr'\n",
        "\n",
        "combined_df = pd.concat([english_df, french_df], ignore_index=True)\n",
        "df_encoded = pd.get_dummies(combined_df, columns=['language'], prefix=['lang'])\n",
        "\n",
        "language_cols = [col for col in df_encoded.columns if col.startswith('lang_')]\n",
        "categorical_features =language_cols"
      ]
    },
    {
      "cell_type": "code",
      "execution_count": 45,
      "metadata": {
        "id": "joaJMI55nEdi",
        "colab": {
          "base_uri": "https://localhost:8080/",
          "height": 335
        },
        "outputId": "b334bab7-08a6-451f-c337-4f25fa01ce78"
      },
      "outputs": [
        {
          "output_type": "execute_result",
          "data": {
            "text/plain": [
              "category\n",
              "Droit de la famille               1356\n",
              "Droit immobilier                  1216\n",
              "Droit financier                    708\n",
              "Droit pénal                        604\n",
              "Droit des étrangers                252\n",
              "Droit de la protection sociale     156\n",
              "Droit du travail                   140\n",
              "Name: count, dtype: int64"
            ],
            "text/html": [
              "<div>\n",
              "<style scoped>\n",
              "    .dataframe tbody tr th:only-of-type {\n",
              "        vertical-align: middle;\n",
              "    }\n",
              "\n",
              "    .dataframe tbody tr th {\n",
              "        vertical-align: top;\n",
              "    }\n",
              "\n",
              "    .dataframe thead th {\n",
              "        text-align: right;\n",
              "    }\n",
              "</style>\n",
              "<table border=\"1\" class=\"dataframe\">\n",
              "  <thead>\n",
              "    <tr style=\"text-align: right;\">\n",
              "      <th></th>\n",
              "      <th>count</th>\n",
              "    </tr>\n",
              "    <tr>\n",
              "      <th>category</th>\n",
              "      <th></th>\n",
              "    </tr>\n",
              "  </thead>\n",
              "  <tbody>\n",
              "    <tr>\n",
              "      <th>Droit de la famille</th>\n",
              "      <td>1356</td>\n",
              "    </tr>\n",
              "    <tr>\n",
              "      <th>Droit immobilier</th>\n",
              "      <td>1216</td>\n",
              "    </tr>\n",
              "    <tr>\n",
              "      <th>Droit financier</th>\n",
              "      <td>708</td>\n",
              "    </tr>\n",
              "    <tr>\n",
              "      <th>Droit pénal</th>\n",
              "      <td>604</td>\n",
              "    </tr>\n",
              "    <tr>\n",
              "      <th>Droit des étrangers</th>\n",
              "      <td>252</td>\n",
              "    </tr>\n",
              "    <tr>\n",
              "      <th>Droit de la protection sociale</th>\n",
              "      <td>156</td>\n",
              "    </tr>\n",
              "    <tr>\n",
              "      <th>Droit du travail</th>\n",
              "      <td>140</td>\n",
              "    </tr>\n",
              "  </tbody>\n",
              "</table>\n",
              "</div><br><label><b>dtype:</b> int64</label>"
            ]
          },
          "metadata": {},
          "execution_count": 45
        }
      ],
      "source": [
        "combined_df.category.value_counts()"
      ]
    },
    {
      "cell_type": "markdown",
      "metadata": {
        "id": "YgTv_UqRjqKr"
      },
      "source": [
        "***Training a bilingual model on the concatenated data***"
      ]
    },
    {
      "cell_type": "code",
      "execution_count": 47,
      "metadata": {
        "id": "xv5gq1zmkM2p"
      },
      "outputs": [],
      "source": [
        "vectorizer = TfidfVectorizer(\n",
        "        max_features=5000,\n",
        "        ngram_range=(1, 2),  # unigrams and bigrams\n",
        "        min_df=2,  # ignore terms that appear in less than 2 documents\n",
        "        max_df=0.8,  # ignore terms that appear in more than 80% of documents\n",
        "        stop_words=None)\n",
        "\n",
        "text_features = vectorizer.fit_transform(df_encoded['processed_text'])"
      ]
    },
    {
      "cell_type": "code",
      "execution_count": 48,
      "metadata": {
        "id": "bDzztfhkrHyj",
        "colab": {
          "base_uri": "https://localhost:8080/"
        },
        "outputId": "8714dcbc-de76-4b78-9f77-88436699586a"
      },
      "outputs": [
        {
          "output_type": "stream",
          "name": "stdout",
          "text": [
            "=== TARGET ===\n",
            "Target categories: ['Droit de la famille', 'Droit de la protection sociale', 'Droit des étrangers', 'Droit du travail', 'Droit financier', 'Droit immobilier', 'Droit pénal']\n",
            "Target distribution: Counter({0: 1356, 5: 1216, 4: 708, 6: 604, 2: 252, 1: 156, 3: 140})\n",
            "\n",
            "===FEATURES ===\n",
            "Combined shape: (4432, 5002)\n",
            "Components: TF-IDF (5000) + Language (2)\n",
            "Total features: 5002\n"
          ]
        }
      ],
      "source": [
        "y = combined_df['category'].astype('category').cat.codes\n",
        "category_names = combined_df['category'].astype('category').cat.categories.tolist()\n",
        "print(\"=== TARGET ===\")\n",
        "print(f\"Target categories: {category_names}\")\n",
        "print(f\"Target distribution: {Counter(y)}\")\n",
        "categorical_features_array = df_encoded[categorical_features].values\n",
        "X_combined = hstack([text_features, categorical_features_array])\n",
        "print(f\"\\n===FEATURES ===\")\n",
        "print(f\"Combined shape: {X_combined.shape}\")\n",
        "print(f\"Components: TF-IDF ({text_features.shape[1]}) + Language ({len(categorical_features)})\")\n",
        "print(f\"Total features: {X_combined.shape[1]}\")"
      ]
    },
    {
      "cell_type": "code",
      "execution_count": 49,
      "metadata": {
        "id": "O-so7g2-rrqA"
      },
      "outputs": [],
      "source": [
        "X_train, X_test, y_train, y_test = train_test_split(\n",
        "    X_combined, y,\n",
        "    test_size=0.2,\n",
        "    random_state=2025,\n",
        "    stratify=y  # maintain category distribution\n",
        ")"
      ]
    },
    {
      "cell_type": "markdown",
      "metadata": {
        "id": "OVSPs5LxT8aV"
      },
      "source": [
        "***The data is imbalanced , so SMOTE is applied***"
      ]
    },
    {
      "cell_type": "code",
      "execution_count": 50,
      "metadata": {
        "id": "hL0MhiorsTWA"
      },
      "outputs": [],
      "source": [
        "smote = SMOTE(random_state=42, k_neighbors=3)\n",
        "X_train_balanced, y_train_balanced = smote.fit_resample(X_train, y_train)"
      ]
    },
    {
      "cell_type": "code",
      "execution_count": 51,
      "metadata": {
        "id": "DofBGq6IlXKl",
        "colab": {
          "base_uri": "https://localhost:8080/"
        },
        "outputId": "d41fccf5-838e-4c2f-93a7-6e8253cadc5c"
      },
      "outputs": [
        {
          "output_type": "stream",
          "name": "stdout",
          "text": [
            "=== TRAINING RANDOM FOREST ===\n",
            "Random Forest Accuracy: 0.7306\n",
            "\n",
            "Classification Report:\n",
            "                                precision    recall  f1-score   support\n",
            "\n",
            "           Droit de la famille       0.89      0.73      0.80       271\n",
            "Droit de la protection sociale       0.56      0.45      0.50        31\n",
            "           Droit des étrangers       0.93      0.84      0.89        51\n",
            "              Droit du travail       0.81      0.79      0.80        28\n",
            "               Droit financier       0.77      0.47      0.59       142\n",
            "              Droit immobilier       0.93      0.79      0.85       243\n",
            "                   Droit pénal       0.41      0.93      0.57       121\n",
            "\n",
            "                      accuracy                           0.73       887\n",
            "                     macro avg       0.76      0.71      0.71       887\n",
            "                  weighted avg       0.81      0.73      0.74       887\n",
            "\n"
          ]
        }
      ],
      "source": [
        "rf_model = RandomForestClassifier(\n",
        "    n_estimators=100,\n",
        "    max_depth=20,\n",
        "    min_samples_split=5,\n",
        "    min_samples_leaf=2,\n",
        "    random_state=42,\n",
        "    n_jobs=-1\n",
        ")\n",
        "\n",
        "print(\"=== TRAINING RANDOM FOREST ===\")\n",
        "rf_model.fit(X_train_balanced, y_train_balanced)\n",
        "\n",
        "# Make predictions\n",
        "rf_predictions = rf_model.predict(X_test)\n",
        "rf_accuracy = accuracy_score(y_test, rf_predictions)\n",
        "\n",
        "print(f\"Random Forest Accuracy: {rf_accuracy:.4f}\")\n",
        "print(\"\\nClassification Report:\")\n",
        "print(classification_report(y_test, rf_predictions, target_names=category_names))"
      ]
    },
    {
      "cell_type": "code",
      "execution_count": 52,
      "metadata": {
        "id": "P-0UNbv7tAHx",
        "colab": {
          "base_uri": "https://localhost:8080/"
        },
        "outputId": "70507a5c-7d8f-4c79-b459-9bfc153491d5"
      },
      "outputs": [
        {
          "output_type": "stream",
          "name": "stdout",
          "text": [
            "=== TRAINING LOGISTIC REGRESSION ===\n"
          ]
        },
        {
          "output_type": "stream",
          "name": "stderr",
          "text": [
            "/usr/local/lib/python3.12/dist-packages/sklearn/linear_model/_logistic.py:1256: FutureWarning: 'multi_class' was deprecated in version 1.5 and will be removed in 1.7. Use OneVsRestClassifier(LogisticRegression(..)) instead. Leave it to its default value to avoid this warning.\n",
            "  warnings.warn(\n"
          ]
        },
        {
          "output_type": "stream",
          "name": "stdout",
          "text": [
            "Logistic Regression Accuracy: 0.9019\n",
            "\n",
            "Classification Report:\n",
            "                                precision    recall  f1-score   support\n",
            "\n",
            "           Droit de la famille       0.93      0.93      0.93       271\n",
            "Droit de la protection sociale       0.57      0.65      0.61        31\n",
            "           Droit des étrangers       0.98      0.92      0.95        51\n",
            "              Droit du travail       0.63      0.79      0.70        28\n",
            "               Droit financier       0.87      0.84      0.85       142\n",
            "              Droit immobilier       0.95      0.94      0.94       243\n",
            "                   Droit pénal       0.93      0.92      0.93       121\n",
            "\n",
            "                      accuracy                           0.90       887\n",
            "                     macro avg       0.84      0.85      0.84       887\n",
            "                  weighted avg       0.91      0.90      0.90       887\n",
            "\n"
          ]
        }
      ],
      "source": [
        "lr_model = LogisticRegression(\n",
        "    max_iter=1000,\n",
        "    random_state=42,\n",
        "    multi_class='ovr',\n",
        "    C=1.0\n",
        ")\n",
        "\n",
        "print(\"=== TRAINING LOGISTIC REGRESSION ===\")\n",
        "lr_model.fit(X_train_balanced, y_train_balanced)\n",
        "\n",
        "# Make predictions\n",
        "lr_predictions = lr_model.predict(X_test)\n",
        "lr_accuracy = accuracy_score(y_test, lr_predictions)\n",
        "\n",
        "print(f\"Logistic Regression Accuracy: {lr_accuracy:.4f}\")\n",
        "print(\"\\nClassification Report:\")\n",
        "print(classification_report(y_test, lr_predictions, target_names=category_names))\n"
      ]
    },
    {
      "cell_type": "code",
      "execution_count": 54,
      "metadata": {
        "id": "Yy0H0eMitvZ6",
        "colab": {
          "base_uri": "https://localhost:8080/"
        },
        "outputId": "8b9b5edf-a0d2-4ea0-e220-b7debb35b73a"
      },
      "outputs": [
        {
          "output_type": "stream",
          "name": "stdout",
          "text": [
            "Done\n"
          ]
        }
      ],
      "source": [
        "import joblib\n",
        "\n",
        "# Save the best model\n",
        "joblib.dump(lr_model, 'log_reg_hhh.pkl')\n",
        "\n",
        "\n",
        "# Save the vectorizer\n",
        "joblib.dump(vectorizer, 'tfidf_vec_hhh.pkl')\n",
        "\n",
        "\n",
        "# Save category names and feature info\n",
        "model_info = {\n",
        "    'category_names': category_names,\n",
        "    'categorical_features': categorical_features,\n",
        "    'model_name': 'Logistic Regression',\n",
        "    'accuracy': lr_accuracy\n",
        "}\n",
        "joblib.dump(model_info, 'model_info_hhh.pkl')\n",
        "print(\"Done\")\n"
      ]
    }
  ],
  "metadata": {
    "colab": {
      "provenance": []
    },
    "kernelspec": {
      "display_name": "Python 3",
      "name": "python3"
    },
    "language_info": {
      "name": "python"
    }
  },
  "nbformat": 4,
  "nbformat_minor": 0
}